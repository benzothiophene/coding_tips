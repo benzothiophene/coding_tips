{
 "cells": [
  {
   "cell_type": "markdown",
   "id": "8b5cd4d5",
   "metadata": {},
   "source": [
    "# The try-except clauses"
   ]
  },
  {
   "cell_type": "code",
   "execution_count": 1,
   "id": "2bcbea71",
   "metadata": {},
   "outputs": [
    {
     "ename": "ValueError",
     "evalue": "invalid literal for int() with base 10: 'abc'",
     "output_type": "error",
     "traceback": [
      "\u001b[1;31m---------------------------------------------------------------------------\u001b[0m",
      "\u001b[1;31mValueError\u001b[0m                                Traceback (most recent call last)",
      "\u001b[1;32m~\\AppData\\Local\\Temp\\ipykernel_13344\\3261929443.py\u001b[0m in \u001b[0;36m<module>\u001b[1;34m\u001b[0m\n\u001b[0;32m      1\u001b[0m \u001b[1;31m# if we put a wrong value into a function, a Value Error will appear.\u001b[0m\u001b[1;33m\u001b[0m\u001b[1;33m\u001b[0m\u001b[0m\n\u001b[1;32m----> 2\u001b[1;33m \u001b[0mint\u001b[0m\u001b[1;33m(\u001b[0m\u001b[1;34m\"abc\"\u001b[0m\u001b[1;33m)\u001b[0m\u001b[1;33m\u001b[0m\u001b[1;33m\u001b[0m\u001b[0m\n\u001b[0m",
      "\u001b[1;31mValueError\u001b[0m: invalid literal for int() with base 10: 'abc'"
     ]
    }
   ],
   "source": [
    "# if we put a wrong value into a function, a Value Error will appear.\n",
    "int(\"abc\")"
   ]
  },
  {
   "cell_type": "markdown",
   "id": "8a5b978a",
   "metadata": {},
   "source": [
    "## Introduction"
   ]
  },
  {
   "cell_type": "code",
   "execution_count": 2,
   "id": "cee533d0",
   "metadata": {},
   "outputs": [
    {
     "name": "stdout",
     "output_type": "stream",
     "text": [
      "wrong input type\n"
     ]
    }
   ],
   "source": [
    "# if we want to cutomize the message we can use the try-except clause\n",
    "try:\n",
    "    print(int('abc'))\n",
    "except ValueError:\n",
    "    print('wrong input type')"
   ]
  },
  {
   "cell_type": "code",
   "execution_count": 3,
   "id": "8dd22a7e",
   "metadata": {},
   "outputs": [
    {
     "name": "stdout",
     "output_type": "stream",
     "text": [
      "wrong input type\n"
     ]
    }
   ],
   "source": [
    "try: # try-except clause first runs the try, if no error or exception encountered, the execution ends at try clause\n",
    "    print(int('abc')) # if the code within try clause enconters an error or an exception, the code goes to except clause\n",
    "except ValueError: # if the type of error matches the type in the keyword of the except clause,\n",
    "    print('wrong input type') # the code within the except clause will run"
   ]
  },
  {
   "cell_type": "code",
   "execution_count": 4,
   "id": "6730befa",
   "metadata": {},
   "outputs": [
    {
     "name": "stdout",
     "output_type": "stream",
     "text": [
      "1\n"
     ]
    }
   ],
   "source": [
    "try:\n",
    "    print(int(1.2))\n",
    "except ValueError:\n",
    "    print('wrong input type')"
   ]
  },
  {
   "cell_type": "code",
   "execution_count": 5,
   "id": "735112c6",
   "metadata": {},
   "outputs": [
    {
     "name": "stdout",
     "output_type": "stream",
     "text": [
      "wrong input type\n"
     ]
    }
   ],
   "source": [
    "try:\n",
    "    print(int('1.2')) # will raise ValueError and goes to except clause\n",
    "    var = a_not_declared_var # will raise NameError\n",
    "except ValueError:\n",
    "    print('wrong input type')\n",
    "# the except clause will only handle the error type in its keyword"
   ]
  },
  {
   "cell_type": "code",
   "execution_count": 6,
   "id": "531bbf12",
   "metadata": {},
   "outputs": [
    {
     "name": "stdout",
     "output_type": "stream",
     "text": [
      "1\n"
     ]
    },
    {
     "ename": "NameError",
     "evalue": "name 'a_not_declared_var' is not defined",
     "output_type": "error",
     "traceback": [
      "\u001b[1;31m---------------------------------------------------------------------------\u001b[0m",
      "\u001b[1;31mNameError\u001b[0m                                 Traceback (most recent call last)",
      "\u001b[1;32m~\\AppData\\Local\\Temp\\ipykernel_13344\\1742038570.py\u001b[0m in \u001b[0;36m<module>\u001b[1;34m\u001b[0m\n\u001b[0;32m      1\u001b[0m \u001b[1;32mtry\u001b[0m\u001b[1;33m:\u001b[0m\u001b[1;33m\u001b[0m\u001b[1;33m\u001b[0m\u001b[0m\n\u001b[0;32m      2\u001b[0m     \u001b[0mprint\u001b[0m\u001b[1;33m(\u001b[0m\u001b[0mint\u001b[0m\u001b[1;33m(\u001b[0m\u001b[1;36m1.2\u001b[0m\u001b[1;33m)\u001b[0m\u001b[1;33m)\u001b[0m \u001b[1;31m# no error, goes to next line\u001b[0m\u001b[1;33m\u001b[0m\u001b[1;33m\u001b[0m\u001b[0m\n\u001b[1;32m----> 3\u001b[1;33m     \u001b[0mvar\u001b[0m \u001b[1;33m=\u001b[0m \u001b[0ma_not_declared_var\u001b[0m \u001b[1;31m# will raise NameError\u001b[0m\u001b[1;33m\u001b[0m\u001b[1;33m\u001b[0m\u001b[0m\n\u001b[0m\u001b[0;32m      4\u001b[0m \u001b[1;32mexcept\u001b[0m \u001b[0mValueError\u001b[0m\u001b[1;33m:\u001b[0m\u001b[1;33m\u001b[0m\u001b[1;33m\u001b[0m\u001b[0m\n\u001b[0;32m      5\u001b[0m     \u001b[0mprint\u001b[0m\u001b[1;33m(\u001b[0m\u001b[1;34m'wrong input type'\u001b[0m\u001b[1;33m)\u001b[0m\u001b[1;33m\u001b[0m\u001b[1;33m\u001b[0m\u001b[0m\n",
      "\u001b[1;31mNameError\u001b[0m: name 'a_not_declared_var' is not defined"
     ]
    }
   ],
   "source": [
    "try:\n",
    "    print(int(1.2)) # no error, goes to next line\n",
    "    var = a_not_declared_var # will raise NameError\n",
    "except ValueError:\n",
    "    print('wrong input type')\n",
    "# the except clause will only handle the error type in its keyword"
   ]
  },
  {
   "cell_type": "code",
   "execution_count": 7,
   "id": "a3e25597",
   "metadata": {},
   "outputs": [
    {
     "name": "stdout",
     "output_type": "stream",
     "text": [
      "1\n",
      "something went wrong\n"
     ]
    }
   ],
   "source": [
    "try:\n",
    "    print(int(1.2)) # no error, goes to next line\n",
    "    var = a_not_declared_var # will raise NameError\n",
    "except Exception:\n",
    "    print('something went wrong')\n",
    "# when using a general term \"Exception\" as the keyword, the except handles almost all types of error\n",
    "# (not included: BaseException, SystemExit, KeyboardInterupt, Generator Exit, etc.\n",
    "# but if we don't put any keyword, the except handles all types of error)"
   ]
  },
  {
   "cell_type": "code",
   "execution_count": 8,
   "id": "cfc6e75c",
   "metadata": {},
   "outputs": [
    {
     "name": "stdout",
     "output_type": "stream",
     "text": [
      "1\n",
      "did you declare your variable?\n"
     ]
    }
   ],
   "source": [
    "# we can add another except clause to handle a second type of error\n",
    "try:\n",
    "    print(int(1.2)) # no error, goes to next line\n",
    "    var = a_not_declared_var # will raise NameError\n",
    "except ValueError:\n",
    "    print('something went wrong')\n",
    "except NameError:\n",
    "    print('did you declare your variable?')"
   ]
  },
  {
   "cell_type": "markdown",
   "id": "3f6f0e26",
   "metadata": {},
   "source": [
    "## User defined error-raise condition"
   ]
  },
  {
   "cell_type": "code",
   "execution_count": 9,
   "id": "f2d3fe7b",
   "metadata": {},
   "outputs": [
    {
     "name": "stdout",
     "output_type": "stream",
     "text": [
      "input must be less than one\n"
     ]
    }
   ],
   "source": [
    "# we can decide when to raise error\n",
    "num = 2.3\n",
    "try:\n",
    "    if num > 1:\n",
    "        raise ValueError\n",
    "    else: \n",
    "        print(int(num))\n",
    "except ValueError:\n",
    "    print('input must be less than one')\n",
    "# in this case, although the int() function accepts 2.3, we deem it impropriate by raising a ValueError.    "
   ]
  },
  {
   "cell_type": "markdown",
   "id": "bfda8d23",
   "metadata": {},
   "source": [
    "## Customized error message"
   ]
  },
  {
   "cell_type": "code",
   "execution_count": 10,
   "id": "e9eb48b8",
   "metadata": {},
   "outputs": [
    {
     "name": "stdout",
     "output_type": "stream",
     "text": [
      "input must be less than one\n"
     ]
    }
   ],
   "source": [
    "# we can imbed a custom message to the customly raised error\n",
    "num = 2.3\n",
    "try:\n",
    "    if type(num) not in [float, int]:\n",
    "        raise ValueError('wrong input type') # imbed in the argument of ValueError\n",
    "    elif num > 1:\n",
    "        raise ValueError('input must be less than one') \n",
    "    else: \n",
    "        print(int(num))\n",
    "except ValueError as e: # must create an alias for the ValueError\n",
    "    print(e)"
   ]
  },
  {
   "cell_type": "code",
   "execution_count": 11,
   "id": "b4c764ca",
   "metadata": {},
   "outputs": [
    {
     "name": "stdout",
     "output_type": "stream",
     "text": [
      "wrong input type\n"
     ]
    }
   ],
   "source": [
    "num = 'abc'\n",
    "try:\n",
    "    if type(num) not in [float, int]:\n",
    "        raise ValueError('wrong input type')\n",
    "    elif num > 1:\n",
    "        raise ValueError('input must be less than one')\n",
    "    else: \n",
    "        print(int(num))\n",
    "except ValueError as e:\n",
    "    print(e)"
   ]
  },
  {
   "cell_type": "markdown",
   "id": "e23835aa",
   "metadata": {},
   "source": [
    "# User-defined exeption subclass"
   ]
  },
  {
   "cell_type": "code",
   "execution_count": 12,
   "id": "23173c00",
   "metadata": {},
   "outputs": [
    {
     "name": "stdout",
     "output_type": "stream",
     "text": [
      "input must be less than one\n"
     ]
    }
   ],
   "source": [
    "# user-defined exceptions\n",
    "class MyCustomError(Exception): #the custom error-handling class is an INHERITANCE of the built-in Exception class\n",
    "    pass # therefore it functions like the base Exception class, takes the same arguments and has same functions\n",
    "\n",
    "num = 2.3\n",
    "try:\n",
    "    if type(num) not in [float, int]:\n",
    "        raise MyCustomError('wrong input type')\n",
    "    elif num > 1:\n",
    "        raise MyCustomError('input must be less than one')\n",
    "    else: \n",
    "        print(int(num))\n",
    "except MyCustomError as e:\n",
    "    print(e)"
   ]
  },
  {
   "cell_type": "code",
   "execution_count": 13,
   "id": "56f6c5cb",
   "metadata": {},
   "outputs": [
    {
     "ename": "ValueError",
     "evalue": "invalid literal for int() with base 10: 'abc'",
     "output_type": "error",
     "traceback": [
      "\u001b[1;31m---------------------------------------------------------------------------\u001b[0m",
      "\u001b[1;31mValueError\u001b[0m                                Traceback (most recent call last)",
      "\u001b[1;32m~\\AppData\\Local\\Temp\\ipykernel_13344\\1614376899.py\u001b[0m in \u001b[0;36m<module>\u001b[1;34m\u001b[0m\n\u001b[0;32m      4\u001b[0m \u001b[1;33m\u001b[0m\u001b[0m\n\u001b[0;32m      5\u001b[0m \u001b[1;32mtry\u001b[0m\u001b[1;33m:\u001b[0m\u001b[1;33m\u001b[0m\u001b[1;33m\u001b[0m\u001b[0m\n\u001b[1;32m----> 6\u001b[1;33m     \u001b[0mprint\u001b[0m\u001b[1;33m(\u001b[0m\u001b[0mint\u001b[0m\u001b[1;33m(\u001b[0m\u001b[1;34m'abc'\u001b[0m\u001b[1;33m)\u001b[0m\u001b[1;33m)\u001b[0m\u001b[1;33m\u001b[0m\u001b[1;33m\u001b[0m\u001b[0m\n\u001b[0m\u001b[0;32m      7\u001b[0m \u001b[1;32mexcept\u001b[0m \u001b[0mMyCustomError\u001b[0m \u001b[1;32mas\u001b[0m \u001b[0me\u001b[0m\u001b[1;33m:\u001b[0m\u001b[1;33m\u001b[0m\u001b[1;33m\u001b[0m\u001b[0m\n\u001b[0;32m      8\u001b[0m     \u001b[0mprint\u001b[0m\u001b[1;33m(\u001b[0m\u001b[0me\u001b[0m\u001b[1;33m)\u001b[0m\u001b[1;33m\u001b[0m\u001b[1;33m\u001b[0m\u001b[0m\n",
      "\u001b[1;31mValueError\u001b[0m: invalid literal for int() with base 10: 'abc'"
     ]
    }
   ],
   "source": [
    "# Note that the system will no automatically raise the custom error-handling function\n",
    "class MyCustomError(Exception):\n",
    "    pass\n",
    "\n",
    "try:\n",
    "    print(int('abc'))\n",
    "except MyCustomError as e:\n",
    "    print(e)"
   ]
  },
  {
   "cell_type": "markdown",
   "id": "95d6f746",
   "metadata": {},
   "source": [
    "## Adding custom error message to the custom exception subclass"
   ]
  },
  {
   "cell_type": "code",
   "execution_count": 14,
   "id": "75d06f89",
   "metadata": {},
   "outputs": [
    {
     "ename": "MyCustomError",
     "evalue": "",
     "output_type": "error",
     "traceback": [
      "\u001b[1;31m---------------------------------------------------------------------------\u001b[0m",
      "\u001b[1;31mMyCustomError\u001b[0m                             Traceback (most recent call last)",
      "\u001b[1;32m~\\AppData\\Local\\Temp\\ipykernel_13344\\851272016.py\u001b[0m in \u001b[0;36m<module>\u001b[1;34m\u001b[0m\n\u001b[0;32m      1\u001b[0m \u001b[1;31m# Because the way we constructed the MyCustomError subclass, (simply with a 'pass'), there is no\u001b[0m\u001b[1;33m\u001b[0m\u001b[1;33m\u001b[0m\u001b[0m\n\u001b[0;32m      2\u001b[0m \u001b[1;31m# built-in error message.\u001b[0m\u001b[1;33m\u001b[0m\u001b[1;33m\u001b[0m\u001b[0m\n\u001b[1;32m----> 3\u001b[1;33m \u001b[1;32mraise\u001b[0m \u001b[0mMyCustomError\u001b[0m\u001b[1;33m\u001b[0m\u001b[1;33m\u001b[0m\u001b[0m\n\u001b[0m",
      "\u001b[1;31mMyCustomError\u001b[0m: "
     ]
    }
   ],
   "source": [
    "# Because the way we constructed the MyCustomError subclass, (simply with a 'pass'), there is no\n",
    "# built-in error message.\n",
    "raise MyCustomError"
   ]
  },
  {
   "cell_type": "code",
   "execution_count": 15,
   "id": "0ba5a5d0",
   "metadata": {},
   "outputs": [],
   "source": [
    "class MyCustomError(Exception):\n",
    "    def __init__(self, message = 'custom error message'):\n",
    "        super().__init__(message)\n",
    "        self.message = message # (this line may not be necessary to execute the codes)\n",
    "# in the above codes we need to override the __init__ method in the parent class, the\n",
    "# super() refers to the parent class, in this case the built-in Exception class."
   ]
  },
  {
   "cell_type": "code",
   "execution_count": 16,
   "id": "519e9450",
   "metadata": {},
   "outputs": [
    {
     "ename": "MyCustomError",
     "evalue": "custom error message",
     "output_type": "error",
     "traceback": [
      "\u001b[1;31m---------------------------------------------------------------------------\u001b[0m",
      "\u001b[1;31mMyCustomError\u001b[0m                             Traceback (most recent call last)",
      "\u001b[1;32m~\\AppData\\Local\\Temp\\ipykernel_13344\\3430968269.py\u001b[0m in \u001b[0;36m<module>\u001b[1;34m\u001b[0m\n\u001b[1;32m----> 1\u001b[1;33m \u001b[1;32mraise\u001b[0m \u001b[0mMyCustomError\u001b[0m\u001b[1;33m\u001b[0m\u001b[1;33m\u001b[0m\u001b[0m\n\u001b[0m",
      "\u001b[1;31mMyCustomError\u001b[0m: custom error message"
     ]
    }
   ],
   "source": [
    "raise MyCustomError"
   ]
  },
  {
   "cell_type": "code",
   "execution_count": 17,
   "id": "e07d65f6",
   "metadata": {},
   "outputs": [
    {
     "ename": "MyCustomError",
     "evalue": "wrong input type",
     "output_type": "error",
     "traceback": [
      "\u001b[1;31m---------------------------------------------------------------------------\u001b[0m",
      "\u001b[1;31mMyCustomError\u001b[0m                             Traceback (most recent call last)",
      "\u001b[1;32m~\\AppData\\Local\\Temp\\ipykernel_13344\\7104349.py\u001b[0m in \u001b[0;36m<module>\u001b[1;34m\u001b[0m\n\u001b[1;32m----> 1\u001b[1;33m \u001b[1;32mraise\u001b[0m \u001b[0mMyCustomError\u001b[0m\u001b[1;33m(\u001b[0m\u001b[1;34m'wrong input type'\u001b[0m\u001b[1;33m)\u001b[0m\u001b[1;33m\u001b[0m\u001b[1;33m\u001b[0m\u001b[0m\n\u001b[0m",
      "\u001b[1;31mMyCustomError\u001b[0m: wrong input type"
     ]
    }
   ],
   "source": [
    "raise MyCustomError('wrong input type')"
   ]
  },
  {
   "cell_type": "code",
   "execution_count": 18,
   "id": "386f5b55",
   "metadata": {},
   "outputs": [],
   "source": [
    "# Obviously, the built-in error message is not necessary when we use the try-except clauses to handle errors"
   ]
  },
  {
   "cell_type": "markdown",
   "id": "ded495c8",
   "metadata": {},
   "source": [
    "# A few words about class inheritance"
   ]
  },
  {
   "cell_type": "code",
   "execution_count": 19,
   "id": "07b346d4",
   "metadata": {},
   "outputs": [
    {
     "name": "stdout",
     "output_type": "stream",
     "text": [
      "B\n",
      "C\n",
      "D\n"
     ]
    }
   ],
   "source": [
    "# in below example borrowed from Python tutorial, \n",
    "# class B is a subclass of the built-in Exception class;\n",
    "# class C is a subclass of B;\n",
    "# class D is a subclass of C\n",
    "# when running the for loop, the variable cls iterates through the classes (thus becomes a class object),\n",
    "# in the try clause, it raises the error cls.\n",
    "# the exception clauses will first examine if the error belongs to D class, then C class, then B class,\n",
    "# and execute the error-handling lines (the print() lines) accordingly\n",
    "# in this case, the result is B C D, because a parent class does not belong to its child classes\n",
    "\n",
    "class B(Exception):\n",
    "    pass\n",
    "class C(B):\n",
    "    pass\n",
    "class D(C):\n",
    "    pass\n",
    "\n",
    "for cls in [B, C, D]:\n",
    "    try:\n",
    "        raise cls\n",
    "    except D:\n",
    "        print(\"D\")\n",
    "    except C:\n",
    "        print(\"C\")\n",
    "    except B:\n",
    "        print(\"B\")"
   ]
  },
  {
   "cell_type": "code",
   "execution_count": 20,
   "id": "f59b9380",
   "metadata": {},
   "outputs": [
    {
     "name": "stdout",
     "output_type": "stream",
     "text": [
      "B\n",
      "B\n",
      "B\n"
     ]
    }
   ],
   "source": [
    "# however, now with the except clauses in reverse order,\n",
    "# the except clauses will check parent class first and child class last\n",
    "# because child classes belong to the parent class\n",
    "# therefore, it will execute the first except clause all three times.\n",
    "class B(Exception):\n",
    "    pass\n",
    "class C(B):\n",
    "    pass\n",
    "class D(C):\n",
    "    pass\n",
    "\n",
    "for cls in [B, C, D]:\n",
    "    try:\n",
    "        raise cls\n",
    "    except B:\n",
    "        print(\"B\")\n",
    "    except C:\n",
    "        print(\"C\")\n",
    "    except D:\n",
    "        print(\"D\")"
   ]
  },
  {
   "cell_type": "code",
   "execution_count": null,
   "id": "ecbd6efa",
   "metadata": {},
   "outputs": [],
   "source": []
  }
 ],
 "metadata": {
  "kernelspec": {
   "display_name": "Python 3 (ipykernel)",
   "language": "python",
   "name": "python3"
  },
  "language_info": {
   "codemirror_mode": {
    "name": "ipython",
    "version": 3
   },
   "file_extension": ".py",
   "mimetype": "text/x-python",
   "name": "python",
   "nbconvert_exporter": "python",
   "pygments_lexer": "ipython3",
   "version": "3.9.13"
  },
  "toc": {
   "base_numbering": 1,
   "nav_menu": {},
   "number_sections": true,
   "sideBar": true,
   "skip_h1_title": false,
   "title_cell": "Table of Contents",
   "title_sidebar": "Contents",
   "toc_cell": false,
   "toc_position": {},
   "toc_section_display": true,
   "toc_window_display": true
  },
  "varInspector": {
   "cols": {
    "lenName": 16,
    "lenType": 16,
    "lenVar": 40
   },
   "kernels_config": {
    "python": {
     "delete_cmd_postfix": "",
     "delete_cmd_prefix": "del ",
     "library": "var_list.py",
     "varRefreshCmd": "print(var_dic_list())"
    },
    "r": {
     "delete_cmd_postfix": ") ",
     "delete_cmd_prefix": "rm(",
     "library": "var_list.r",
     "varRefreshCmd": "cat(var_dic_list()) "
    }
   },
   "types_to_exclude": [
    "module",
    "function",
    "builtin_function_or_method",
    "instance",
    "_Feature"
   ],
   "window_display": false
  }
 },
 "nbformat": 4,
 "nbformat_minor": 5
}
